{
 "cells": [
  {
   "cell_type": "markdown",
   "metadata": {},
   "source": [
    "# Capítulo 4 - Tipos de dados do Spark \n",
    "\n",
    "O Spark possui um grande número de representações de tipo interno. O documento presente é referência útil para referência de tipos de dados em Python."
   ]
  },
  {
   "cell_type": "markdown",
   "metadata": {},
   "source": [
    "### Typos de dados Pyspark"
   ]
  },
  {
   "cell_type": "markdown",
   "metadata": {},
   "source": [
    "|<center>Tipo de dado  |<center>Tipo de valor em Python|<center>API para criar ou acessar o tipo de dado|\n",
    "|:--------------------:|:-----------------------------:|:----------------------------------------------:|\n",
    "|<center>ByteType      |<center>int ou long. Nota: Os números serão convertidos em números inteiros de 1 byte no tempo de execução. Certifique-se de que os números estejam dentro do intervalo de –128 a 127.|<center>ByteType( )|\n",
    "|<center>ShortType     |<center>int ou long. Nota: Os números serão convertidos em números inteiros de 2 byte no tempo de execução. Certifique-se de que os números estejam dentro do intervalo de –32768 a 32767.|<center>ShortType( )|\n",
    "|<center>IntegerType   |<center>int ou long. Nota: O Python possui uma definição leniente de “inteiro”. Os números que são muito grandes serão rejeitados pelo Spark SQL se você usar o IntegerType (). A melhor prática é usar o LongType.|<center> IntegerType()|\n",
    "|<center>LongType      |<center>longo. Nota: Os números serão convertidos em números inteiros de 8 bytes em tempo de execução. Certifique-se de que os números estejam dentro do intervalo de –9223372036854775808 a 9223372036854775807. Caso contrário, converta os dados em decimal.Decimal e use DecimalType.|<center> LongType()|\n",
    "|<center>FloatType     |<center>float. Nota: Os números serão convertidos em números de ponto flutuante de precisão única de 4 bytes durante a execução.|<center> FloatType()|\n",
    "|<center>DoubleType    |<center>float|<center>DoubleType()|\n",
    "|<center>DecimalType   |<center>decimal.Decimal|<center>DecimalType()|\n",
    "|<center>StringType    |<center>string|<center>StringType()|\n",
    "|<center>BinaryType    |<center>bytearray|<center>BinaryType()|\n",
    "|<center>BooleanType   |<center>bool|<center>BooleanType()|\n",
    "|<center>TimestampType |<center>datetime.datetime|<center>TimestampType()|\n",
    "|<center>DateType      |<center>datetime.date|<center>DateType()|     \n",
    "|<center>ArrayType     |<center>lista, tuple ou array|<center> ArrayType(elementType,[containsNull])|\n",
    "|<center>MapType       |<center>dicionário|<center> MapType(keyType,valueType,[valueContainsNull])|\n",
    "|<center>StructType    |<center>lista ou tupla|<center>StructType(fields) *campos com o mesmo nome não são permitidos|\n",
    "|<center>StructField   |<center>O tipo de valor em Python do tipo de dados desse campo (por exemplo, Int para um StructField com o tipo de dados IntegerType)|<center>StructField(name, dataType, [nullable])|\n"
   ]
  },
  {
   "cell_type": "markdown",
   "metadata": {},
   "source": [
    "#### Para trabalhar com os tipos de dados do python, use os seguinte comandos:"
   ]
  },
  {
   "cell_type": "code",
   "execution_count": 3,
   "metadata": {},
   "outputs": [],
   "source": [
    "# Importando tipos definidos dentre os disponíveis \n",
    "from pyspark.sql.types import ByteType, ShortType, StringType, StructField, StructType"
   ]
  },
  {
   "cell_type": "code",
   "execution_count": 4,
   "metadata": {},
   "outputs": [],
   "source": [
    "# Importando todos os tipos\n",
    "from pyspark.sql.types import *"
   ]
  },
  {
   "cell_type": "markdown",
   "metadata": {},
   "source": [
    "Material baseado em exemplos do livro __Spark - The Definitive Guide. Bill Chambers e Matei Zaharia__"
   ]
  }
 ],
 "metadata": {
  "kernelspec": {
   "display_name": "PySpark",
   "language": "python",
   "name": "pyspark"
  },
  "language_info": {
   "codemirror_mode": {
    "name": "ipython",
    "version": 2
   },
   "file_extension": ".py",
   "mimetype": "text/x-python",
   "name": "python",
   "nbconvert_exporter": "python",
   "pygments_lexer": "ipython2",
   "version": "2.7.5"
  }
 },
 "nbformat": 4,
 "nbformat_minor": 2
}
